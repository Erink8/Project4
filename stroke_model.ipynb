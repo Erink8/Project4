{
  "nbformat": 4,
  "nbformat_minor": 0,
  "metadata": {
    "colab": {
      "provenance": []
    },
    "kernelspec": {
      "name": "python3",
      "display_name": "Python 3"
    },
    "language_info": {
      "name": "python"
    }
  },
  "cells": [
    {
      "cell_type": "code",
      "execution_count": 1,
      "metadata": {
        "id": "tAwmLQ_Yc1ZG",
        "colab": {
          "base_uri": "https://localhost:8080/",
          "height": 305
        },
        "outputId": "d637abcb-5ef4-4cc7-d53f-e6fbd093970c"
      },
      "outputs": [
        {
          "output_type": "execute_result",
          "data": {
            "text/plain": [
              "      id  gender   age  hypertension  heart_disease ever_married  \\\n",
              "0   9046    Male  67.0             0              1          Yes   \n",
              "1  51676  Female  61.0             0              0          Yes   \n",
              "2  31112    Male  80.0             0              1          Yes   \n",
              "3  60182  Female  49.0             0              0          Yes   \n",
              "4   1665  Female  79.0             1              0          Yes   \n",
              "\n",
              "       work_type Residence_type  avg_glucose_level   bmi   smoking_status  \\\n",
              "0        Private          Urban             228.69  36.6  formerly smoked   \n",
              "1  Self-employed          Rural             202.21   NaN     never smoked   \n",
              "2        Private          Rural             105.92  32.5     never smoked   \n",
              "3        Private          Urban             171.23  34.4           smokes   \n",
              "4  Self-employed          Rural             174.12  24.0     never smoked   \n",
              "\n",
              "   stroke  \n",
              "0       1  \n",
              "1       1  \n",
              "2       1  \n",
              "3       1  \n",
              "4       1  "
            ],
            "text/html": [
              "\n",
              "  <div id=\"df-7e8dce5e-d75e-48e4-9e9d-50268c591dea\">\n",
              "    <div class=\"colab-df-container\">\n",
              "      <div>\n",
              "<style scoped>\n",
              "    .dataframe tbody tr th:only-of-type {\n",
              "        vertical-align: middle;\n",
              "    }\n",
              "\n",
              "    .dataframe tbody tr th {\n",
              "        vertical-align: top;\n",
              "    }\n",
              "\n",
              "    .dataframe thead th {\n",
              "        text-align: right;\n",
              "    }\n",
              "</style>\n",
              "<table border=\"1\" class=\"dataframe\">\n",
              "  <thead>\n",
              "    <tr style=\"text-align: right;\">\n",
              "      <th></th>\n",
              "      <th>id</th>\n",
              "      <th>gender</th>\n",
              "      <th>age</th>\n",
              "      <th>hypertension</th>\n",
              "      <th>heart_disease</th>\n",
              "      <th>ever_married</th>\n",
              "      <th>work_type</th>\n",
              "      <th>Residence_type</th>\n",
              "      <th>avg_glucose_level</th>\n",
              "      <th>bmi</th>\n",
              "      <th>smoking_status</th>\n",
              "      <th>stroke</th>\n",
              "    </tr>\n",
              "  </thead>\n",
              "  <tbody>\n",
              "    <tr>\n",
              "      <th>0</th>\n",
              "      <td>9046</td>\n",
              "      <td>Male</td>\n",
              "      <td>67.0</td>\n",
              "      <td>0</td>\n",
              "      <td>1</td>\n",
              "      <td>Yes</td>\n",
              "      <td>Private</td>\n",
              "      <td>Urban</td>\n",
              "      <td>228.69</td>\n",
              "      <td>36.6</td>\n",
              "      <td>formerly smoked</td>\n",
              "      <td>1</td>\n",
              "    </tr>\n",
              "    <tr>\n",
              "      <th>1</th>\n",
              "      <td>51676</td>\n",
              "      <td>Female</td>\n",
              "      <td>61.0</td>\n",
              "      <td>0</td>\n",
              "      <td>0</td>\n",
              "      <td>Yes</td>\n",
              "      <td>Self-employed</td>\n",
              "      <td>Rural</td>\n",
              "      <td>202.21</td>\n",
              "      <td>NaN</td>\n",
              "      <td>never smoked</td>\n",
              "      <td>1</td>\n",
              "    </tr>\n",
              "    <tr>\n",
              "      <th>2</th>\n",
              "      <td>31112</td>\n",
              "      <td>Male</td>\n",
              "      <td>80.0</td>\n",
              "      <td>0</td>\n",
              "      <td>1</td>\n",
              "      <td>Yes</td>\n",
              "      <td>Private</td>\n",
              "      <td>Rural</td>\n",
              "      <td>105.92</td>\n",
              "      <td>32.5</td>\n",
              "      <td>never smoked</td>\n",
              "      <td>1</td>\n",
              "    </tr>\n",
              "    <tr>\n",
              "      <th>3</th>\n",
              "      <td>60182</td>\n",
              "      <td>Female</td>\n",
              "      <td>49.0</td>\n",
              "      <td>0</td>\n",
              "      <td>0</td>\n",
              "      <td>Yes</td>\n",
              "      <td>Private</td>\n",
              "      <td>Urban</td>\n",
              "      <td>171.23</td>\n",
              "      <td>34.4</td>\n",
              "      <td>smokes</td>\n",
              "      <td>1</td>\n",
              "    </tr>\n",
              "    <tr>\n",
              "      <th>4</th>\n",
              "      <td>1665</td>\n",
              "      <td>Female</td>\n",
              "      <td>79.0</td>\n",
              "      <td>1</td>\n",
              "      <td>0</td>\n",
              "      <td>Yes</td>\n",
              "      <td>Self-employed</td>\n",
              "      <td>Rural</td>\n",
              "      <td>174.12</td>\n",
              "      <td>24.0</td>\n",
              "      <td>never smoked</td>\n",
              "      <td>1</td>\n",
              "    </tr>\n",
              "  </tbody>\n",
              "</table>\n",
              "</div>\n",
              "      <button class=\"colab-df-convert\" onclick=\"convertToInteractive('df-7e8dce5e-d75e-48e4-9e9d-50268c591dea')\"\n",
              "              title=\"Convert this dataframe to an interactive table.\"\n",
              "              style=\"display:none;\">\n",
              "        \n",
              "  <svg xmlns=\"http://www.w3.org/2000/svg\" height=\"24px\"viewBox=\"0 0 24 24\"\n",
              "       width=\"24px\">\n",
              "    <path d=\"M0 0h24v24H0V0z\" fill=\"none\"/>\n",
              "    <path d=\"M18.56 5.44l.94 2.06.94-2.06 2.06-.94-2.06-.94-.94-2.06-.94 2.06-2.06.94zm-11 1L8.5 8.5l.94-2.06 2.06-.94-2.06-.94L8.5 2.5l-.94 2.06-2.06.94zm10 10l.94 2.06.94-2.06 2.06-.94-2.06-.94-.94-2.06-.94 2.06-2.06.94z\"/><path d=\"M17.41 7.96l-1.37-1.37c-.4-.4-.92-.59-1.43-.59-.52 0-1.04.2-1.43.59L10.3 9.45l-7.72 7.72c-.78.78-.78 2.05 0 2.83L4 21.41c.39.39.9.59 1.41.59.51 0 1.02-.2 1.41-.59l7.78-7.78 2.81-2.81c.8-.78.8-2.07 0-2.86zM5.41 20L4 18.59l7.72-7.72 1.47 1.35L5.41 20z\"/>\n",
              "  </svg>\n",
              "      </button>\n",
              "      \n",
              "  <style>\n",
              "    .colab-df-container {\n",
              "      display:flex;\n",
              "      flex-wrap:wrap;\n",
              "      gap: 12px;\n",
              "    }\n",
              "\n",
              "    .colab-df-convert {\n",
              "      background-color: #E8F0FE;\n",
              "      border: none;\n",
              "      border-radius: 50%;\n",
              "      cursor: pointer;\n",
              "      display: none;\n",
              "      fill: #1967D2;\n",
              "      height: 32px;\n",
              "      padding: 0 0 0 0;\n",
              "      width: 32px;\n",
              "    }\n",
              "\n",
              "    .colab-df-convert:hover {\n",
              "      background-color: #E2EBFA;\n",
              "      box-shadow: 0px 1px 2px rgba(60, 64, 67, 0.3), 0px 1px 3px 1px rgba(60, 64, 67, 0.15);\n",
              "      fill: #174EA6;\n",
              "    }\n",
              "\n",
              "    [theme=dark] .colab-df-convert {\n",
              "      background-color: #3B4455;\n",
              "      fill: #D2E3FC;\n",
              "    }\n",
              "\n",
              "    [theme=dark] .colab-df-convert:hover {\n",
              "      background-color: #434B5C;\n",
              "      box-shadow: 0px 1px 3px 1px rgba(0, 0, 0, 0.15);\n",
              "      filter: drop-shadow(0px 1px 2px rgba(0, 0, 0, 0.3));\n",
              "      fill: #FFFFFF;\n",
              "    }\n",
              "  </style>\n",
              "\n",
              "      <script>\n",
              "        const buttonEl =\n",
              "          document.querySelector('#df-7e8dce5e-d75e-48e4-9e9d-50268c591dea button.colab-df-convert');\n",
              "        buttonEl.style.display =\n",
              "          google.colab.kernel.accessAllowed ? 'block' : 'none';\n",
              "\n",
              "        async function convertToInteractive(key) {\n",
              "          const element = document.querySelector('#df-7e8dce5e-d75e-48e4-9e9d-50268c591dea');\n",
              "          const dataTable =\n",
              "            await google.colab.kernel.invokeFunction('convertToInteractive',\n",
              "                                                     [key], {});\n",
              "          if (!dataTable) return;\n",
              "\n",
              "          const docLinkHtml = 'Like what you see? Visit the ' +\n",
              "            '<a target=\"_blank\" href=https://colab.research.google.com/notebooks/data_table.ipynb>data table notebook</a>'\n",
              "            + ' to learn more about interactive tables.';\n",
              "          element.innerHTML = '';\n",
              "          dataTable['output_type'] = 'display_data';\n",
              "          await google.colab.output.renderOutput(dataTable, element);\n",
              "          const docLink = document.createElement('div');\n",
              "          docLink.innerHTML = docLinkHtml;\n",
              "          element.appendChild(docLink);\n",
              "        }\n",
              "      </script>\n",
              "    </div>\n",
              "  </div>\n",
              "  "
            ]
          },
          "metadata": {},
          "execution_count": 1
        }
      ],
      "source": [
        "# Import our dependencies\n",
        "from sklearn.model_selection import train_test_split\n",
        "from sklearn.preprocessing import StandardScaler,OneHotEncoder\n",
        "import pandas as pd\n",
        "import tensorflow as tf\n",
        "from sklearn.linear_model import LogisticRegression\n",
        "from sklearn.metrics import balanced_accuracy_score, confusion_matrix, classification_report\n",
        "from imblearn.over_sampling import RandomOverSampler\n",
        "from sklearn.neighbors import KNeighborsClassifier\n",
        "from sklearn.ensemble import RandomForestClassifier\n",
        "\n",
        "#  Import and read the charity_data.csv.\n",
        "import pandas as pd \n",
        "stroke_data_df = pd.read_csv(\"healthcare-dataset-stroke-data.csv\")\n",
        "stroke_data_df.head()"
      ]
    },
    {
      "cell_type": "code",
      "source": [
        "from google.colab import drive\n",
        "drive.mount('/content/drive')"
      ],
      "metadata": {
        "id": "ZCpGIhHodozP",
        "colab": {
          "base_uri": "https://localhost:8080/"
        },
        "outputId": "30a68f58-6923-499c-e571-ad1cb1d7c04b"
      },
      "execution_count": 2,
      "outputs": [
        {
          "output_type": "stream",
          "name": "stdout",
          "text": [
            "Drive already mounted at /content/drive; to attempt to forcibly remount, call drive.mount(\"/content/drive\", force_remount=True).\n"
          ]
        }
      ]
    },
    {
      "cell_type": "markdown",
      "source": [
        "# **Preprocessing**"
      ],
      "metadata": {
        "id": "d_6dX5RoDshi"
      }
    },
    {
      "cell_type": "code",
      "source": [
        "# Drop the non-beneficial ID column.\n",
        "stroke_df = stroke_data_df.drop(columns={'id'})"
      ],
      "metadata": {
        "id": "c2dVYS1Udokl"
      },
      "execution_count": 3,
      "outputs": []
    },
    {
      "cell_type": "code",
      "source": [
        "# Drop rows containing NaN\n",
        "stroke_df = stroke_df.dropna()"
      ],
      "metadata": {
        "id": "BByWGKT5es9E"
      },
      "execution_count": 4,
      "outputs": []
    },
    {
      "cell_type": "code",
      "source": [
        "# Convert categorical data to numeric with `pd.get_dummies`\n",
        "encoded_stroke_data = pd.get_dummies(stroke_df)\n",
        "encoded_stroke_data"
      ],
      "metadata": {
        "id": "lRBKol72eueW",
        "colab": {
          "base_uri": "https://localhost:8080/",
          "height": 505
        },
        "outputId": "ce1d6d24-7df2-4291-965e-8a9563a0cc31"
      },
      "execution_count": 5,
      "outputs": [
        {
          "output_type": "execute_result",
          "data": {
            "text/plain": [
              "       age  hypertension  heart_disease  avg_glucose_level   bmi  stroke  \\\n",
              "0     67.0             0              1             228.69  36.6       1   \n",
              "2     80.0             0              1             105.92  32.5       1   \n",
              "3     49.0             0              0             171.23  34.4       1   \n",
              "4     79.0             1              0             174.12  24.0       1   \n",
              "5     81.0             0              0             186.21  29.0       1   \n",
              "...    ...           ...            ...                ...   ...     ...   \n",
              "5104  13.0             0              0             103.08  18.6       0   \n",
              "5106  81.0             0              0             125.20  40.0       0   \n",
              "5107  35.0             0              0              82.99  30.6       0   \n",
              "5108  51.0             0              0             166.29  25.6       0   \n",
              "5109  44.0             0              0              85.28  26.2       0   \n",
              "\n",
              "      gender_Female  gender_Male  gender_Other  ever_married_No  ...  \\\n",
              "0                 0            1             0                0  ...   \n",
              "2                 0            1             0                0  ...   \n",
              "3                 1            0             0                0  ...   \n",
              "4                 1            0             0                0  ...   \n",
              "5                 0            1             0                0  ...   \n",
              "...             ...          ...           ...              ...  ...   \n",
              "5104              1            0             0                1  ...   \n",
              "5106              1            0             0                0  ...   \n",
              "5107              1            0             0                0  ...   \n",
              "5108              0            1             0                0  ...   \n",
              "5109              1            0             0                0  ...   \n",
              "\n",
              "      work_type_Never_worked  work_type_Private  work_type_Self-employed  \\\n",
              "0                          0                  1                        0   \n",
              "2                          0                  1                        0   \n",
              "3                          0                  1                        0   \n",
              "4                          0                  0                        1   \n",
              "5                          0                  1                        0   \n",
              "...                      ...                ...                      ...   \n",
              "5104                       0                  0                        0   \n",
              "5106                       0                  0                        1   \n",
              "5107                       0                  0                        1   \n",
              "5108                       0                  1                        0   \n",
              "5109                       0                  0                        0   \n",
              "\n",
              "      work_type_children  Residence_type_Rural  Residence_type_Urban  \\\n",
              "0                      0                     0                     1   \n",
              "2                      0                     1                     0   \n",
              "3                      0                     0                     1   \n",
              "4                      0                     1                     0   \n",
              "5                      0                     0                     1   \n",
              "...                  ...                   ...                   ...   \n",
              "5104                   1                     1                     0   \n",
              "5106                   0                     0                     1   \n",
              "5107                   0                     1                     0   \n",
              "5108                   0                     1                     0   \n",
              "5109                   0                     0                     1   \n",
              "\n",
              "      smoking_status_Unknown  smoking_status_formerly smoked  \\\n",
              "0                          0                               1   \n",
              "2                          0                               0   \n",
              "3                          0                               0   \n",
              "4                          0                               0   \n",
              "5                          0                               1   \n",
              "...                      ...                             ...   \n",
              "5104                       1                               0   \n",
              "5106                       0                               0   \n",
              "5107                       0                               0   \n",
              "5108                       0                               1   \n",
              "5109                       1                               0   \n",
              "\n",
              "      smoking_status_never smoked  smoking_status_smokes  \n",
              "0                               0                      0  \n",
              "2                               1                      0  \n",
              "3                               0                      1  \n",
              "4                               1                      0  \n",
              "5                               0                      0  \n",
              "...                           ...                    ...  \n",
              "5104                            0                      0  \n",
              "5106                            1                      0  \n",
              "5107                            1                      0  \n",
              "5108                            0                      0  \n",
              "5109                            0                      0  \n",
              "\n",
              "[4909 rows x 22 columns]"
            ],
            "text/html": [
              "\n",
              "  <div id=\"df-fa8119c3-474c-4afb-ae65-7953ba041807\">\n",
              "    <div class=\"colab-df-container\">\n",
              "      <div>\n",
              "<style scoped>\n",
              "    .dataframe tbody tr th:only-of-type {\n",
              "        vertical-align: middle;\n",
              "    }\n",
              "\n",
              "    .dataframe tbody tr th {\n",
              "        vertical-align: top;\n",
              "    }\n",
              "\n",
              "    .dataframe thead th {\n",
              "        text-align: right;\n",
              "    }\n",
              "</style>\n",
              "<table border=\"1\" class=\"dataframe\">\n",
              "  <thead>\n",
              "    <tr style=\"text-align: right;\">\n",
              "      <th></th>\n",
              "      <th>age</th>\n",
              "      <th>hypertension</th>\n",
              "      <th>heart_disease</th>\n",
              "      <th>avg_glucose_level</th>\n",
              "      <th>bmi</th>\n",
              "      <th>stroke</th>\n",
              "      <th>gender_Female</th>\n",
              "      <th>gender_Male</th>\n",
              "      <th>gender_Other</th>\n",
              "      <th>ever_married_No</th>\n",
              "      <th>...</th>\n",
              "      <th>work_type_Never_worked</th>\n",
              "      <th>work_type_Private</th>\n",
              "      <th>work_type_Self-employed</th>\n",
              "      <th>work_type_children</th>\n",
              "      <th>Residence_type_Rural</th>\n",
              "      <th>Residence_type_Urban</th>\n",
              "      <th>smoking_status_Unknown</th>\n",
              "      <th>smoking_status_formerly smoked</th>\n",
              "      <th>smoking_status_never smoked</th>\n",
              "      <th>smoking_status_smokes</th>\n",
              "    </tr>\n",
              "  </thead>\n",
              "  <tbody>\n",
              "    <tr>\n",
              "      <th>0</th>\n",
              "      <td>67.0</td>\n",
              "      <td>0</td>\n",
              "      <td>1</td>\n",
              "      <td>228.69</td>\n",
              "      <td>36.6</td>\n",
              "      <td>1</td>\n",
              "      <td>0</td>\n",
              "      <td>1</td>\n",
              "      <td>0</td>\n",
              "      <td>0</td>\n",
              "      <td>...</td>\n",
              "      <td>0</td>\n",
              "      <td>1</td>\n",
              "      <td>0</td>\n",
              "      <td>0</td>\n",
              "      <td>0</td>\n",
              "      <td>1</td>\n",
              "      <td>0</td>\n",
              "      <td>1</td>\n",
              "      <td>0</td>\n",
              "      <td>0</td>\n",
              "    </tr>\n",
              "    <tr>\n",
              "      <th>2</th>\n",
              "      <td>80.0</td>\n",
              "      <td>0</td>\n",
              "      <td>1</td>\n",
              "      <td>105.92</td>\n",
              "      <td>32.5</td>\n",
              "      <td>1</td>\n",
              "      <td>0</td>\n",
              "      <td>1</td>\n",
              "      <td>0</td>\n",
              "      <td>0</td>\n",
              "      <td>...</td>\n",
              "      <td>0</td>\n",
              "      <td>1</td>\n",
              "      <td>0</td>\n",
              "      <td>0</td>\n",
              "      <td>1</td>\n",
              "      <td>0</td>\n",
              "      <td>0</td>\n",
              "      <td>0</td>\n",
              "      <td>1</td>\n",
              "      <td>0</td>\n",
              "    </tr>\n",
              "    <tr>\n",
              "      <th>3</th>\n",
              "      <td>49.0</td>\n",
              "      <td>0</td>\n",
              "      <td>0</td>\n",
              "      <td>171.23</td>\n",
              "      <td>34.4</td>\n",
              "      <td>1</td>\n",
              "      <td>1</td>\n",
              "      <td>0</td>\n",
              "      <td>0</td>\n",
              "      <td>0</td>\n",
              "      <td>...</td>\n",
              "      <td>0</td>\n",
              "      <td>1</td>\n",
              "      <td>0</td>\n",
              "      <td>0</td>\n",
              "      <td>0</td>\n",
              "      <td>1</td>\n",
              "      <td>0</td>\n",
              "      <td>0</td>\n",
              "      <td>0</td>\n",
              "      <td>1</td>\n",
              "    </tr>\n",
              "    <tr>\n",
              "      <th>4</th>\n",
              "      <td>79.0</td>\n",
              "      <td>1</td>\n",
              "      <td>0</td>\n",
              "      <td>174.12</td>\n",
              "      <td>24.0</td>\n",
              "      <td>1</td>\n",
              "      <td>1</td>\n",
              "      <td>0</td>\n",
              "      <td>0</td>\n",
              "      <td>0</td>\n",
              "      <td>...</td>\n",
              "      <td>0</td>\n",
              "      <td>0</td>\n",
              "      <td>1</td>\n",
              "      <td>0</td>\n",
              "      <td>1</td>\n",
              "      <td>0</td>\n",
              "      <td>0</td>\n",
              "      <td>0</td>\n",
              "      <td>1</td>\n",
              "      <td>0</td>\n",
              "    </tr>\n",
              "    <tr>\n",
              "      <th>5</th>\n",
              "      <td>81.0</td>\n",
              "      <td>0</td>\n",
              "      <td>0</td>\n",
              "      <td>186.21</td>\n",
              "      <td>29.0</td>\n",
              "      <td>1</td>\n",
              "      <td>0</td>\n",
              "      <td>1</td>\n",
              "      <td>0</td>\n",
              "      <td>0</td>\n",
              "      <td>...</td>\n",
              "      <td>0</td>\n",
              "      <td>1</td>\n",
              "      <td>0</td>\n",
              "      <td>0</td>\n",
              "      <td>0</td>\n",
              "      <td>1</td>\n",
              "      <td>0</td>\n",
              "      <td>1</td>\n",
              "      <td>0</td>\n",
              "      <td>0</td>\n",
              "    </tr>\n",
              "    <tr>\n",
              "      <th>...</th>\n",
              "      <td>...</td>\n",
              "      <td>...</td>\n",
              "      <td>...</td>\n",
              "      <td>...</td>\n",
              "      <td>...</td>\n",
              "      <td>...</td>\n",
              "      <td>...</td>\n",
              "      <td>...</td>\n",
              "      <td>...</td>\n",
              "      <td>...</td>\n",
              "      <td>...</td>\n",
              "      <td>...</td>\n",
              "      <td>...</td>\n",
              "      <td>...</td>\n",
              "      <td>...</td>\n",
              "      <td>...</td>\n",
              "      <td>...</td>\n",
              "      <td>...</td>\n",
              "      <td>...</td>\n",
              "      <td>...</td>\n",
              "      <td>...</td>\n",
              "    </tr>\n",
              "    <tr>\n",
              "      <th>5104</th>\n",
              "      <td>13.0</td>\n",
              "      <td>0</td>\n",
              "      <td>0</td>\n",
              "      <td>103.08</td>\n",
              "      <td>18.6</td>\n",
              "      <td>0</td>\n",
              "      <td>1</td>\n",
              "      <td>0</td>\n",
              "      <td>0</td>\n",
              "      <td>1</td>\n",
              "      <td>...</td>\n",
              "      <td>0</td>\n",
              "      <td>0</td>\n",
              "      <td>0</td>\n",
              "      <td>1</td>\n",
              "      <td>1</td>\n",
              "      <td>0</td>\n",
              "      <td>1</td>\n",
              "      <td>0</td>\n",
              "      <td>0</td>\n",
              "      <td>0</td>\n",
              "    </tr>\n",
              "    <tr>\n",
              "      <th>5106</th>\n",
              "      <td>81.0</td>\n",
              "      <td>0</td>\n",
              "      <td>0</td>\n",
              "      <td>125.20</td>\n",
              "      <td>40.0</td>\n",
              "      <td>0</td>\n",
              "      <td>1</td>\n",
              "      <td>0</td>\n",
              "      <td>0</td>\n",
              "      <td>0</td>\n",
              "      <td>...</td>\n",
              "      <td>0</td>\n",
              "      <td>0</td>\n",
              "      <td>1</td>\n",
              "      <td>0</td>\n",
              "      <td>0</td>\n",
              "      <td>1</td>\n",
              "      <td>0</td>\n",
              "      <td>0</td>\n",
              "      <td>1</td>\n",
              "      <td>0</td>\n",
              "    </tr>\n",
              "    <tr>\n",
              "      <th>5107</th>\n",
              "      <td>35.0</td>\n",
              "      <td>0</td>\n",
              "      <td>0</td>\n",
              "      <td>82.99</td>\n",
              "      <td>30.6</td>\n",
              "      <td>0</td>\n",
              "      <td>1</td>\n",
              "      <td>0</td>\n",
              "      <td>0</td>\n",
              "      <td>0</td>\n",
              "      <td>...</td>\n",
              "      <td>0</td>\n",
              "      <td>0</td>\n",
              "      <td>1</td>\n",
              "      <td>0</td>\n",
              "      <td>1</td>\n",
              "      <td>0</td>\n",
              "      <td>0</td>\n",
              "      <td>0</td>\n",
              "      <td>1</td>\n",
              "      <td>0</td>\n",
              "    </tr>\n",
              "    <tr>\n",
              "      <th>5108</th>\n",
              "      <td>51.0</td>\n",
              "      <td>0</td>\n",
              "      <td>0</td>\n",
              "      <td>166.29</td>\n",
              "      <td>25.6</td>\n",
              "      <td>0</td>\n",
              "      <td>0</td>\n",
              "      <td>1</td>\n",
              "      <td>0</td>\n",
              "      <td>0</td>\n",
              "      <td>...</td>\n",
              "      <td>0</td>\n",
              "      <td>1</td>\n",
              "      <td>0</td>\n",
              "      <td>0</td>\n",
              "      <td>1</td>\n",
              "      <td>0</td>\n",
              "      <td>0</td>\n",
              "      <td>1</td>\n",
              "      <td>0</td>\n",
              "      <td>0</td>\n",
              "    </tr>\n",
              "    <tr>\n",
              "      <th>5109</th>\n",
              "      <td>44.0</td>\n",
              "      <td>0</td>\n",
              "      <td>0</td>\n",
              "      <td>85.28</td>\n",
              "      <td>26.2</td>\n",
              "      <td>0</td>\n",
              "      <td>1</td>\n",
              "      <td>0</td>\n",
              "      <td>0</td>\n",
              "      <td>0</td>\n",
              "      <td>...</td>\n",
              "      <td>0</td>\n",
              "      <td>0</td>\n",
              "      <td>0</td>\n",
              "      <td>0</td>\n",
              "      <td>0</td>\n",
              "      <td>1</td>\n",
              "      <td>1</td>\n",
              "      <td>0</td>\n",
              "      <td>0</td>\n",
              "      <td>0</td>\n",
              "    </tr>\n",
              "  </tbody>\n",
              "</table>\n",
              "<p>4909 rows × 22 columns</p>\n",
              "</div>\n",
              "      <button class=\"colab-df-convert\" onclick=\"convertToInteractive('df-fa8119c3-474c-4afb-ae65-7953ba041807')\"\n",
              "              title=\"Convert this dataframe to an interactive table.\"\n",
              "              style=\"display:none;\">\n",
              "        \n",
              "  <svg xmlns=\"http://www.w3.org/2000/svg\" height=\"24px\"viewBox=\"0 0 24 24\"\n",
              "       width=\"24px\">\n",
              "    <path d=\"M0 0h24v24H0V0z\" fill=\"none\"/>\n",
              "    <path d=\"M18.56 5.44l.94 2.06.94-2.06 2.06-.94-2.06-.94-.94-2.06-.94 2.06-2.06.94zm-11 1L8.5 8.5l.94-2.06 2.06-.94-2.06-.94L8.5 2.5l-.94 2.06-2.06.94zm10 10l.94 2.06.94-2.06 2.06-.94-2.06-.94-.94-2.06-.94 2.06-2.06.94z\"/><path d=\"M17.41 7.96l-1.37-1.37c-.4-.4-.92-.59-1.43-.59-.52 0-1.04.2-1.43.59L10.3 9.45l-7.72 7.72c-.78.78-.78 2.05 0 2.83L4 21.41c.39.39.9.59 1.41.59.51 0 1.02-.2 1.41-.59l7.78-7.78 2.81-2.81c.8-.78.8-2.07 0-2.86zM5.41 20L4 18.59l7.72-7.72 1.47 1.35L5.41 20z\"/>\n",
              "  </svg>\n",
              "      </button>\n",
              "      \n",
              "  <style>\n",
              "    .colab-df-container {\n",
              "      display:flex;\n",
              "      flex-wrap:wrap;\n",
              "      gap: 12px;\n",
              "    }\n",
              "\n",
              "    .colab-df-convert {\n",
              "      background-color: #E8F0FE;\n",
              "      border: none;\n",
              "      border-radius: 50%;\n",
              "      cursor: pointer;\n",
              "      display: none;\n",
              "      fill: #1967D2;\n",
              "      height: 32px;\n",
              "      padding: 0 0 0 0;\n",
              "      width: 32px;\n",
              "    }\n",
              "\n",
              "    .colab-df-convert:hover {\n",
              "      background-color: #E2EBFA;\n",
              "      box-shadow: 0px 1px 2px rgba(60, 64, 67, 0.3), 0px 1px 3px 1px rgba(60, 64, 67, 0.15);\n",
              "      fill: #174EA6;\n",
              "    }\n",
              "\n",
              "    [theme=dark] .colab-df-convert {\n",
              "      background-color: #3B4455;\n",
              "      fill: #D2E3FC;\n",
              "    }\n",
              "\n",
              "    [theme=dark] .colab-df-convert:hover {\n",
              "      background-color: #434B5C;\n",
              "      box-shadow: 0px 1px 3px 1px rgba(0, 0, 0, 0.15);\n",
              "      filter: drop-shadow(0px 1px 2px rgba(0, 0, 0, 0.3));\n",
              "      fill: #FFFFFF;\n",
              "    }\n",
              "  </style>\n",
              "\n",
              "      <script>\n",
              "        const buttonEl =\n",
              "          document.querySelector('#df-fa8119c3-474c-4afb-ae65-7953ba041807 button.colab-df-convert');\n",
              "        buttonEl.style.display =\n",
              "          google.colab.kernel.accessAllowed ? 'block' : 'none';\n",
              "\n",
              "        async function convertToInteractive(key) {\n",
              "          const element = document.querySelector('#df-fa8119c3-474c-4afb-ae65-7953ba041807');\n",
              "          const dataTable =\n",
              "            await google.colab.kernel.invokeFunction('convertToInteractive',\n",
              "                                                     [key], {});\n",
              "          if (!dataTable) return;\n",
              "\n",
              "          const docLinkHtml = 'Like what you see? Visit the ' +\n",
              "            '<a target=\"_blank\" href=https://colab.research.google.com/notebooks/data_table.ipynb>data table notebook</a>'\n",
              "            + ' to learn more about interactive tables.';\n",
              "          element.innerHTML = '';\n",
              "          dataTable['output_type'] = 'display_data';\n",
              "          await google.colab.output.renderOutput(dataTable, element);\n",
              "          const docLink = document.createElement('div');\n",
              "          docLink.innerHTML = docLinkHtml;\n",
              "          element.appendChild(docLink);\n",
              "        }\n",
              "      </script>\n",
              "    </div>\n",
              "  </div>\n",
              "  "
            ]
          },
          "metadata": {},
          "execution_count": 5
        }
      ]
    },
    {
      "cell_type": "code",
      "source": [
        "# Split our preprocessed data into our features and target arrays\n",
        "y = encoded_stroke_data[\"stroke\"]\n",
        "X = encoded_stroke_data.drop([\"stroke\"], axis=1)\n",
        "\n",
        "# Split the preprocessed data into a training and testing dataset\n",
        "X_train, X_test, y_train, y_test = train_test_split(X, y)"
      ],
      "metadata": {
        "id": "KuiPRUkue1DC"
      },
      "execution_count": 6,
      "outputs": []
    },
    {
      "cell_type": "code",
      "source": [
        "# Check the balance of our target values\n",
        "y.value_counts()"
      ],
      "metadata": {
        "colab": {
          "base_uri": "https://localhost:8080/"
        },
        "id": "3_M3WTEA-8p7",
        "outputId": "1f702151-c8b6-42be-8d1c-b691d38171b1"
      },
      "execution_count": 7,
      "outputs": [
        {
          "output_type": "execute_result",
          "data": {
            "text/plain": [
              "0    4700\n",
              "1     209\n",
              "Name: stroke, dtype: int64"
            ]
          },
          "metadata": {},
          "execution_count": 7
        }
      ]
    },
    {
      "cell_type": "code",
      "source": [
        "# Create a StandardScaler instances\n",
        "scaler = StandardScaler()\n",
        "\n",
        "# Fit the StandardScaler\n",
        "X_scaler = scaler.fit(X_train)\n",
        "\n",
        "# Scale the data\n",
        "X_train_scaled = X_scaler.transform(X_train)\n",
        "X_test_scaled = X_scaler.transform(X_test)"
      ],
      "metadata": {
        "id": "pvV7-bZ4fC4M"
      },
      "execution_count": 8,
      "outputs": []
    },
    {
      "cell_type": "markdown",
      "source": [
        "# **Logistic Regression Model**\n",
        "Attempt 1 using orignial data."
      ],
      "metadata": {
        "id": "OAzqLMBcDzRX"
      }
    },
    {
      "cell_type": "markdown",
      "source": [
        "Something is clearly going wrong here, but I'm not sure what."
      ],
      "metadata": {
        "id": "Bkg8Ih25SRlw"
      }
    },
    {
      "cell_type": "code",
      "source": [
        "# Fit the model\n",
        "# Instantiate the Logistic Regression model\n",
        "logistic_regression_model = LogisticRegression(max_iter=200)\n",
        "\n",
        "# Fit the model using training data\n",
        "model = logistic_regression_model.fit(X_train_scaled, y_train)"
      ],
      "metadata": {
        "id": "g6-IsWzW_Gqj"
      },
      "execution_count": 9,
      "outputs": []
    },
    {
      "cell_type": "code",
      "source": [
        "# Make a prediction using the testing data\n",
        "LR_pred = logistic_regression_model.predict(X_test_scaled)"
      ],
      "metadata": {
        "id": "XJnuCL83GMhQ"
      },
      "execution_count": 10,
      "outputs": []
    },
    {
      "cell_type": "code",
      "source": [
        "# Print the balanced_accuracy score of the model\n",
        "balanced_accuracy_score(y_test, LR_pred)"
      ],
      "metadata": {
        "colab": {
          "base_uri": "https://localhost:8080/"
        },
        "id": "YhC8_VwGGMeS",
        "outputId": "9abc0d1e-5c1c-4888-c4bd-2dbe3a993f90"
      },
      "execution_count": 11,
      "outputs": [
        {
          "output_type": "execute_result",
          "data": {
            "text/plain": [
              "0.5"
            ]
          },
          "metadata": {},
          "execution_count": 11
        }
      ]
    },
    {
      "cell_type": "code",
      "source": [
        "# Generate a confusion matrix for the model\n",
        "matrix = confusion_matrix(y_test, LR_pred)\n",
        "print(matrix)"
      ],
      "metadata": {
        "colab": {
          "base_uri": "https://localhost:8080/"
        },
        "id": "X7Kcdi33GMbA",
        "outputId": "d1c73935-9e2c-4ba3-98b0-e458c3468242"
      },
      "execution_count": 12,
      "outputs": [
        {
          "output_type": "stream",
          "name": "stdout",
          "text": [
            "[[1177    0]\n",
            " [  51    0]]\n"
          ]
        }
      ]
    },
    {
      "cell_type": "code",
      "source": [
        "# Print the classification report for the model\n",
        "report = classification_report(y_test, LR_pred)\n",
        "print(report)"
      ],
      "metadata": {
        "colab": {
          "base_uri": "https://localhost:8080/"
        },
        "id": "TJnH5g0SGXa8",
        "outputId": "b864e270-bcc5-48be-9a34-2b8b3903fd37"
      },
      "execution_count": 13,
      "outputs": [
        {
          "output_type": "stream",
          "name": "stdout",
          "text": [
            "              precision    recall  f1-score   support\n",
            "\n",
            "           0       0.96      1.00      0.98      1177\n",
            "           1       0.00      0.00      0.00        51\n",
            "\n",
            "    accuracy                           0.96      1228\n",
            "   macro avg       0.48      0.50      0.49      1228\n",
            "weighted avg       0.92      0.96      0.94      1228\n",
            "\n"
          ]
        },
        {
          "output_type": "stream",
          "name": "stderr",
          "text": [
            "/usr/local/lib/python3.10/dist-packages/sklearn/metrics/_classification.py:1344: UndefinedMetricWarning: Precision and F-score are ill-defined and being set to 0.0 in labels with no predicted samples. Use `zero_division` parameter to control this behavior.\n",
            "  _warn_prf(average, modifier, msg_start, len(result))\n",
            "/usr/local/lib/python3.10/dist-packages/sklearn/metrics/_classification.py:1344: UndefinedMetricWarning: Precision and F-score are ill-defined and being set to 0.0 in labels with no predicted samples. Use `zero_division` parameter to control this behavior.\n",
            "  _warn_prf(average, modifier, msg_start, len(result))\n",
            "/usr/local/lib/python3.10/dist-packages/sklearn/metrics/_classification.py:1344: UndefinedMetricWarning: Precision and F-score are ill-defined and being set to 0.0 in labels with no predicted samples. Use `zero_division` parameter to control this behavior.\n",
            "  _warn_prf(average, modifier, msg_start, len(result))\n"
          ]
        }
      ]
    },
    {
      "cell_type": "markdown",
      "source": [
        "# **Neural Network Model**\n",
        "Attempt 1 using original data."
      ],
      "metadata": {
        "id": "MQGGMAWfEDe_"
      }
    },
    {
      "cell_type": "code",
      "source": [
        "# Define the model\n",
        "number_input_features = len(X_train_scaled[0])\n",
        "hidden_nodes_layer1 = 9\n",
        "hidden_nodes_layer2 = 9\n",
        "hidden_nodes_layer3 = 9\n",
        "\n",
        "nn = tf.keras.models.Sequential()\n",
        "\n",
        "# First hidden layer\n",
        "nn.add(\n",
        "    tf.keras.layers.Dense(units=hidden_nodes_layer1, input_dim=number_input_features, activation=\"relu\")\n",
        ")\n",
        "\n",
        "# Second hidden layer\n",
        "nn.add(tf.keras.layers.Dense(units=hidden_nodes_layer2, activation=\"relu\"))\n",
        "\n",
        "# Third hidden layer\n",
        "nn.add(tf.keras.layers.Dense(units=hidden_nodes_layer3, activation=\"relu\"))\n",
        "\n",
        "# Output layer\n",
        "nn.add(tf.keras.layers.Dense(units=1, activation=\"sigmoid\"))\n",
        "\n",
        "# Check the structure of the model\n",
        "nn.summary()"
      ],
      "metadata": {
        "id": "KsvFpjREdoXk",
        "colab": {
          "base_uri": "https://localhost:8080/"
        },
        "outputId": "b25c6d82-f8a6-4c9f-fdb9-85e97cb16043"
      },
      "execution_count": 14,
      "outputs": [
        {
          "output_type": "stream",
          "name": "stdout",
          "text": [
            "Model: \"sequential\"\n",
            "_________________________________________________________________\n",
            " Layer (type)                Output Shape              Param #   \n",
            "=================================================================\n",
            " dense (Dense)               (None, 9)                 198       \n",
            "                                                                 \n",
            " dense_1 (Dense)             (None, 9)                 90        \n",
            "                                                                 \n",
            " dense_2 (Dense)             (None, 9)                 90        \n",
            "                                                                 \n",
            " dense_3 (Dense)             (None, 1)                 10        \n",
            "                                                                 \n",
            "=================================================================\n",
            "Total params: 388\n",
            "Trainable params: 388\n",
            "Non-trainable params: 0\n",
            "_________________________________________________________________\n"
          ]
        }
      ]
    },
    {
      "cell_type": "code",
      "source": [
        "# Compile the model\n",
        "nn.compile(loss=\"binary_crossentropy\", optimizer=\"adam\", metrics=[\"accuracy\"])"
      ],
      "metadata": {
        "id": "vL_hofXVDEKB"
      },
      "execution_count": 15,
      "outputs": []
    },
    {
      "cell_type": "code",
      "source": [
        "# Train the model\n",
        "fit_model = nn.fit(X_train_scaled,y_train,epochs=50)"
      ],
      "metadata": {
        "colab": {
          "base_uri": "https://localhost:8080/"
        },
        "id": "VRZJcPdyDEC8",
        "outputId": "c21006e4-2af9-4c39-b680-c66529b4aab5"
      },
      "execution_count": 16,
      "outputs": [
        {
          "output_type": "stream",
          "name": "stdout",
          "text": [
            "Epoch 1/50\n",
            "116/116 [==============================] - 4s 10ms/step - loss: 0.3433 - accuracy: 0.9571\n",
            "Epoch 2/50\n",
            "116/116 [==============================] - 1s 8ms/step - loss: 0.1859 - accuracy: 0.9571\n",
            "Epoch 3/50\n",
            "116/116 [==============================] - 1s 9ms/step - loss: 0.1661 - accuracy: 0.9571\n",
            "Epoch 4/50\n",
            "116/116 [==============================] - 1s 9ms/step - loss: 0.1582 - accuracy: 0.9571\n",
            "Epoch 5/50\n",
            "116/116 [==============================] - 1s 9ms/step - loss: 0.1521 - accuracy: 0.9571\n",
            "Epoch 6/50\n",
            "116/116 [==============================] - 1s 7ms/step - loss: 0.1489 - accuracy: 0.9571\n",
            "Epoch 7/50\n",
            "116/116 [==============================] - 1s 8ms/step - loss: 0.1464 - accuracy: 0.9571\n",
            "Epoch 8/50\n",
            "116/116 [==============================] - 1s 6ms/step - loss: 0.1440 - accuracy: 0.9571\n",
            "Epoch 9/50\n",
            "116/116 [==============================] - 1s 7ms/step - loss: 0.1422 - accuracy: 0.9571\n",
            "Epoch 10/50\n",
            "116/116 [==============================] - 1s 7ms/step - loss: 0.1406 - accuracy: 0.9571\n",
            "Epoch 11/50\n",
            "116/116 [==============================] - 1s 6ms/step - loss: 0.1397 - accuracy: 0.9571\n",
            "Epoch 12/50\n",
            "116/116 [==============================] - 1s 6ms/step - loss: 0.1387 - accuracy: 0.9571\n",
            "Epoch 13/50\n",
            "116/116 [==============================] - 1s 5ms/step - loss: 0.1378 - accuracy: 0.9571\n",
            "Epoch 14/50\n",
            "116/116 [==============================] - 0s 3ms/step - loss: 0.1367 - accuracy: 0.9571\n",
            "Epoch 15/50\n",
            "116/116 [==============================] - 0s 4ms/step - loss: 0.1361 - accuracy: 0.9571\n",
            "Epoch 16/50\n",
            "116/116 [==============================] - 0s 3ms/step - loss: 0.1357 - accuracy: 0.9571\n",
            "Epoch 17/50\n",
            "116/116 [==============================] - 1s 5ms/step - loss: 0.1352 - accuracy: 0.9571\n",
            "Epoch 18/50\n",
            "116/116 [==============================] - 1s 5ms/step - loss: 0.1348 - accuracy: 0.9571\n",
            "Epoch 19/50\n",
            "116/116 [==============================] - 1s 5ms/step - loss: 0.1341 - accuracy: 0.9571\n",
            "Epoch 20/50\n",
            "116/116 [==============================] - 0s 4ms/step - loss: 0.1340 - accuracy: 0.9571\n",
            "Epoch 21/50\n",
            "116/116 [==============================] - 0s 4ms/step - loss: 0.1333 - accuracy: 0.9571\n",
            "Epoch 22/50\n",
            "116/116 [==============================] - 1s 9ms/step - loss: 0.1328 - accuracy: 0.9571\n",
            "Epoch 23/50\n",
            "116/116 [==============================] - 1s 7ms/step - loss: 0.1324 - accuracy: 0.9571\n",
            "Epoch 24/50\n",
            "116/116 [==============================] - 1s 9ms/step - loss: 0.1323 - accuracy: 0.9571\n",
            "Epoch 25/50\n",
            "116/116 [==============================] - 1s 8ms/step - loss: 0.1318 - accuracy: 0.9571\n",
            "Epoch 26/50\n",
            "116/116 [==============================] - 2s 16ms/step - loss: 0.1315 - accuracy: 0.9571\n",
            "Epoch 27/50\n",
            "116/116 [==============================] - 1s 6ms/step - loss: 0.1322 - accuracy: 0.9571\n",
            "Epoch 28/50\n",
            "116/116 [==============================] - 1s 5ms/step - loss: 0.1314 - accuracy: 0.9571\n",
            "Epoch 29/50\n",
            "116/116 [==============================] - 1s 6ms/step - loss: 0.1309 - accuracy: 0.9571\n",
            "Epoch 30/50\n",
            "116/116 [==============================] - 1s 5ms/step - loss: 0.1305 - accuracy: 0.9571\n",
            "Epoch 31/50\n",
            "116/116 [==============================] - 0s 3ms/step - loss: 0.1303 - accuracy: 0.9571\n",
            "Epoch 32/50\n",
            "116/116 [==============================] - 0s 3ms/step - loss: 0.1299 - accuracy: 0.9571\n",
            "Epoch 33/50\n",
            "116/116 [==============================] - 0s 3ms/step - loss: 0.1297 - accuracy: 0.9571\n",
            "Epoch 34/50\n",
            "116/116 [==============================] - 0s 2ms/step - loss: 0.1292 - accuracy: 0.9571\n",
            "Epoch 35/50\n",
            "116/116 [==============================] - 0s 2ms/step - loss: 0.1294 - accuracy: 0.9571\n",
            "Epoch 36/50\n",
            "116/116 [==============================] - 0s 3ms/step - loss: 0.1289 - accuracy: 0.9571\n",
            "Epoch 37/50\n",
            "116/116 [==============================] - 0s 3ms/step - loss: 0.1290 - accuracy: 0.9571\n",
            "Epoch 38/50\n",
            "116/116 [==============================] - 0s 3ms/step - loss: 0.1290 - accuracy: 0.9571\n",
            "Epoch 39/50\n",
            "116/116 [==============================] - 0s 3ms/step - loss: 0.1282 - accuracy: 0.9571\n",
            "Epoch 40/50\n",
            "116/116 [==============================] - 0s 3ms/step - loss: 0.1281 - accuracy: 0.9571\n",
            "Epoch 41/50\n",
            "116/116 [==============================] - 0s 3ms/step - loss: 0.1277 - accuracy: 0.9571\n",
            "Epoch 42/50\n",
            "116/116 [==============================] - 0s 2ms/step - loss: 0.1273 - accuracy: 0.9571\n",
            "Epoch 43/50\n",
            "116/116 [==============================] - 0s 2ms/step - loss: 0.1271 - accuracy: 0.9571\n",
            "Epoch 44/50\n",
            "116/116 [==============================] - 0s 3ms/step - loss: 0.1269 - accuracy: 0.9571\n",
            "Epoch 45/50\n",
            "116/116 [==============================] - 0s 3ms/step - loss: 0.1267 - accuracy: 0.9571\n",
            "Epoch 46/50\n",
            "116/116 [==============================] - 0s 2ms/step - loss: 0.1283 - accuracy: 0.9573\n",
            "Epoch 47/50\n",
            "116/116 [==============================] - 0s 3ms/step - loss: 0.1268 - accuracy: 0.9571\n",
            "Epoch 48/50\n",
            "116/116 [==============================] - 0s 3ms/step - loss: 0.1263 - accuracy: 0.9571\n",
            "Epoch 49/50\n",
            "116/116 [==============================] - 0s 2ms/step - loss: 0.1259 - accuracy: 0.9571\n",
            "Epoch 50/50\n",
            "116/116 [==============================] - 0s 3ms/step - loss: 0.1260 - accuracy: 0.9571\n"
          ]
        }
      ]
    },
    {
      "cell_type": "code",
      "source": [
        "# Evaluate the model using the test data\n",
        "model_loss, model_accuracy = nn.evaluate(X_test_scaled,y_test,verbose=2)\n",
        "print(f\"Loss: {model_loss}, Accuracy: {model_accuracy}\")"
      ],
      "metadata": {
        "colab": {
          "base_uri": "https://localhost:8080/"
        },
        "id": "6c_s_DX9DD0p",
        "outputId": "cb9a6ee8-8584-449d-cbaa-49eca6c4ee5c"
      },
      "execution_count": 17,
      "outputs": [
        {
          "output_type": "stream",
          "name": "stdout",
          "text": [
            "39/39 - 0s - loss: 0.1654 - accuracy: 0.9585 - 254ms/epoch - 7ms/step\n",
            "Loss: 0.16544944047927856, Accuracy: 0.958469033241272\n"
          ]
        }
      ]
    },
    {
      "cell_type": "code",
      "source": [
        "# Export our model to HDF5 file\n",
        "# nn.save('Models/stroke_model_NN_1.h5')"
      ],
      "metadata": {
        "id": "pLQEgJ87DL4A"
      },
      "execution_count": 18,
      "outputs": []
    },
    {
      "cell_type": "markdown",
      "source": [
        "# **K Nearest Neighbors**"
      ],
      "metadata": {
        "id": "pz_ZdQcgIUX8"
      }
    },
    {
      "cell_type": "code",
      "source": [
        "# Instantiate the model with k = 3 neighbors\n",
        "model = KNeighborsClassifier(n_neighbors=3)"
      ],
      "metadata": {
        "id": "gUbfwN_dIbrx"
      },
      "execution_count": 19,
      "outputs": []
    },
    {
      "cell_type": "code",
      "source": [
        "# Train the model\n",
        "model.fit(X_train_scaled, y_train)"
      ],
      "metadata": {
        "colab": {
          "base_uri": "https://localhost:8080/",
          "height": 0
        },
        "id": "U4M1KtzIIbOh",
        "outputId": "0207de53-756a-4df2-b9b5-428ec5fb3b6f"
      },
      "execution_count": 20,
      "outputs": [
        {
          "output_type": "execute_result",
          "data": {
            "text/plain": [
              "KNeighborsClassifier(n_neighbors=3)"
            ],
            "text/html": [
              "<style>#sk-container-id-1 {color: black;background-color: white;}#sk-container-id-1 pre{padding: 0;}#sk-container-id-1 div.sk-toggleable {background-color: white;}#sk-container-id-1 label.sk-toggleable__label {cursor: pointer;display: block;width: 100%;margin-bottom: 0;padding: 0.3em;box-sizing: border-box;text-align: center;}#sk-container-id-1 label.sk-toggleable__label-arrow:before {content: \"▸\";float: left;margin-right: 0.25em;color: #696969;}#sk-container-id-1 label.sk-toggleable__label-arrow:hover:before {color: black;}#sk-container-id-1 div.sk-estimator:hover label.sk-toggleable__label-arrow:before {color: black;}#sk-container-id-1 div.sk-toggleable__content {max-height: 0;max-width: 0;overflow: hidden;text-align: left;background-color: #f0f8ff;}#sk-container-id-1 div.sk-toggleable__content pre {margin: 0.2em;color: black;border-radius: 0.25em;background-color: #f0f8ff;}#sk-container-id-1 input.sk-toggleable__control:checked~div.sk-toggleable__content {max-height: 200px;max-width: 100%;overflow: auto;}#sk-container-id-1 input.sk-toggleable__control:checked~label.sk-toggleable__label-arrow:before {content: \"▾\";}#sk-container-id-1 div.sk-estimator input.sk-toggleable__control:checked~label.sk-toggleable__label {background-color: #d4ebff;}#sk-container-id-1 div.sk-label input.sk-toggleable__control:checked~label.sk-toggleable__label {background-color: #d4ebff;}#sk-container-id-1 input.sk-hidden--visually {border: 0;clip: rect(1px 1px 1px 1px);clip: rect(1px, 1px, 1px, 1px);height: 1px;margin: -1px;overflow: hidden;padding: 0;position: absolute;width: 1px;}#sk-container-id-1 div.sk-estimator {font-family: monospace;background-color: #f0f8ff;border: 1px dotted black;border-radius: 0.25em;box-sizing: border-box;margin-bottom: 0.5em;}#sk-container-id-1 div.sk-estimator:hover {background-color: #d4ebff;}#sk-container-id-1 div.sk-parallel-item::after {content: \"\";width: 100%;border-bottom: 1px solid gray;flex-grow: 1;}#sk-container-id-1 div.sk-label:hover label.sk-toggleable__label {background-color: #d4ebff;}#sk-container-id-1 div.sk-serial::before {content: \"\";position: absolute;border-left: 1px solid gray;box-sizing: border-box;top: 0;bottom: 0;left: 50%;z-index: 0;}#sk-container-id-1 div.sk-serial {display: flex;flex-direction: column;align-items: center;background-color: white;padding-right: 0.2em;padding-left: 0.2em;position: relative;}#sk-container-id-1 div.sk-item {position: relative;z-index: 1;}#sk-container-id-1 div.sk-parallel {display: flex;align-items: stretch;justify-content: center;background-color: white;position: relative;}#sk-container-id-1 div.sk-item::before, #sk-container-id-1 div.sk-parallel-item::before {content: \"\";position: absolute;border-left: 1px solid gray;box-sizing: border-box;top: 0;bottom: 0;left: 50%;z-index: -1;}#sk-container-id-1 div.sk-parallel-item {display: flex;flex-direction: column;z-index: 1;position: relative;background-color: white;}#sk-container-id-1 div.sk-parallel-item:first-child::after {align-self: flex-end;width: 50%;}#sk-container-id-1 div.sk-parallel-item:last-child::after {align-self: flex-start;width: 50%;}#sk-container-id-1 div.sk-parallel-item:only-child::after {width: 0;}#sk-container-id-1 div.sk-dashed-wrapped {border: 1px dashed gray;margin: 0 0.4em 0.5em 0.4em;box-sizing: border-box;padding-bottom: 0.4em;background-color: white;}#sk-container-id-1 div.sk-label label {font-family: monospace;font-weight: bold;display: inline-block;line-height: 1.2em;}#sk-container-id-1 div.sk-label-container {text-align: center;}#sk-container-id-1 div.sk-container {/* jupyter's `normalize.less` sets `[hidden] { display: none; }` but bootstrap.min.css set `[hidden] { display: none !important; }` so we also need the `!important` here to be able to override the default hidden behavior on the sphinx rendered scikit-learn.org. See: https://github.com/scikit-learn/scikit-learn/issues/21755 */display: inline-block !important;position: relative;}#sk-container-id-1 div.sk-text-repr-fallback {display: none;}</style><div id=\"sk-container-id-1\" class=\"sk-top-container\"><div class=\"sk-text-repr-fallback\"><pre>KNeighborsClassifier(n_neighbors=3)</pre><b>In a Jupyter environment, please rerun this cell to show the HTML representation or trust the notebook. <br />On GitHub, the HTML representation is unable to render, please try loading this page with nbviewer.org.</b></div><div class=\"sk-container\" hidden><div class=\"sk-item\"><div class=\"sk-estimator sk-toggleable\"><input class=\"sk-toggleable__control sk-hidden--visually\" id=\"sk-estimator-id-1\" type=\"checkbox\" checked><label for=\"sk-estimator-id-1\" class=\"sk-toggleable__label sk-toggleable__label-arrow\">KNeighborsClassifier</label><div class=\"sk-toggleable__content\"><pre>KNeighborsClassifier(n_neighbors=3)</pre></div></div></div></div></div>"
            ]
          },
          "metadata": {},
          "execution_count": 20
        }
      ]
    },
    {
      "cell_type": "code",
      "source": [
        "# Create predictions\n",
        "KN_pred = model.predict(X_test_scaled)"
      ],
      "metadata": {
        "id": "Aa8uN-XXR62U"
      },
      "execution_count": 21,
      "outputs": []
    },
    {
      "cell_type": "code",
      "source": [
        "# Print confusion matrix\n",
        "confusion_matrix(KN_pred,y_test)"
      ],
      "metadata": {
        "colab": {
          "base_uri": "https://localhost:8080/"
        },
        "id": "DuqG-s76R6yw",
        "outputId": "ba3d17ae-1d27-4547-91bc-4f3bcbc7337d"
      },
      "execution_count": 22,
      "outputs": [
        {
          "output_type": "execute_result",
          "data": {
            "text/plain": [
              "array([[1168,   47],\n",
              "       [   9,    4]])"
            ]
          },
          "metadata": {},
          "execution_count": 22
        }
      ]
    },
    {
      "cell_type": "code",
      "source": [
        "# Print classification report\n",
        "print(classification_report(KN_pred,y_test))"
      ],
      "metadata": {
        "colab": {
          "base_uri": "https://localhost:8080/"
        },
        "id": "aHBSh1OESBJd",
        "outputId": "3691d716-adfc-49c0-d1e8-5ce62b6bae16"
      },
      "execution_count": 23,
      "outputs": [
        {
          "output_type": "stream",
          "name": "stdout",
          "text": [
            "              precision    recall  f1-score   support\n",
            "\n",
            "           0       0.99      0.96      0.98      1215\n",
            "           1       0.08      0.31      0.12        13\n",
            "\n",
            "    accuracy                           0.95      1228\n",
            "   macro avg       0.54      0.63      0.55      1228\n",
            "weighted avg       0.98      0.95      0.97      1228\n",
            "\n"
          ]
        }
      ]
    },
    {
      "cell_type": "markdown",
      "source": [
        "# **Random Forest**"
      ],
      "metadata": {
        "id": "HjaDpbAbXm8P"
      }
    },
    {
      "cell_type": "markdown",
      "source": [
        "It looks like this is having the same problem as the first Logistic Regression model, using the resampled data might help."
      ],
      "metadata": {
        "id": "v-mb5zHwY1GU"
      }
    },
    {
      "cell_type": "code",
      "source": [
        "# Create a random forest classifier\n",
        "rf_model = RandomForestClassifier(n_estimators=500)"
      ],
      "metadata": {
        "id": "YBhieYwHXsHl"
      },
      "execution_count": 24,
      "outputs": []
    },
    {
      "cell_type": "code",
      "source": [
        "# Fitting the model\n",
        "rf_model = rf_model.fit(X_train_scaled, y_train)"
      ],
      "metadata": {
        "id": "TQhanCqaXsxT"
      },
      "execution_count": 25,
      "outputs": []
    },
    {
      "cell_type": "code",
      "source": [
        "# Making predictions using the testing data\n",
        "rf_pred = rf_model.predict(X_test_scaled)"
      ],
      "metadata": {
        "id": "uIuquUnzXsiK"
      },
      "execution_count": 26,
      "outputs": []
    },
    {
      "cell_type": "code",
      "source": [
        "# Print confusion matrix\n",
        "confusion_matrix(rf_pred,y_test)"
      ],
      "metadata": {
        "colab": {
          "base_uri": "https://localhost:8080/"
        },
        "id": "xgnzGyZzXsQp",
        "outputId": "6ba0f25d-cf38-4225-d721-749a4084e20a"
      },
      "execution_count": 27,
      "outputs": [
        {
          "output_type": "execute_result",
          "data": {
            "text/plain": [
              "array([[1177,   51],\n",
              "       [   0,    0]])"
            ]
          },
          "metadata": {},
          "execution_count": 27
        }
      ]
    },
    {
      "cell_type": "code",
      "source": [
        "# Print classification report\n",
        "print(classification_report(rf_pred,y_test))"
      ],
      "metadata": {
        "colab": {
          "base_uri": "https://localhost:8080/"
        },
        "id": "KWumQN9bXsMj",
        "outputId": "768c6274-e5cc-4f01-800d-4ffae31dc234"
      },
      "execution_count": 28,
      "outputs": [
        {
          "output_type": "stream",
          "name": "stdout",
          "text": [
            "              precision    recall  f1-score   support\n",
            "\n",
            "           0       1.00      0.96      0.98      1228\n",
            "           1       0.00      0.00      0.00         0\n",
            "\n",
            "    accuracy                           0.96      1228\n",
            "   macro avg       0.50      0.48      0.49      1228\n",
            "weighted avg       1.00      0.96      0.98      1228\n",
            "\n"
          ]
        },
        {
          "output_type": "stream",
          "name": "stderr",
          "text": [
            "/usr/local/lib/python3.10/dist-packages/sklearn/metrics/_classification.py:1344: UndefinedMetricWarning: Recall and F-score are ill-defined and being set to 0.0 in labels with no true samples. Use `zero_division` parameter to control this behavior.\n",
            "  _warn_prf(average, modifier, msg_start, len(result))\n",
            "/usr/local/lib/python3.10/dist-packages/sklearn/metrics/_classification.py:1344: UndefinedMetricWarning: Recall and F-score are ill-defined and being set to 0.0 in labels with no true samples. Use `zero_division` parameter to control this behavior.\n",
            "  _warn_prf(average, modifier, msg_start, len(result))\n",
            "/usr/local/lib/python3.10/dist-packages/sklearn/metrics/_classification.py:1344: UndefinedMetricWarning: Recall and F-score are ill-defined and being set to 0.0 in labels with no true samples. Use `zero_division` parameter to control this behavior.\n",
            "  _warn_prf(average, modifier, msg_start, len(result))\n"
          ]
        }
      ]
    },
    {
      "cell_type": "markdown",
      "source": [
        "# **Resample Data with RandomOverSampler**"
      ],
      "metadata": {
        "id": "FiT1WtFHEJmR"
      }
    },
    {
      "cell_type": "code",
      "source": [
        "!pip install imblearn"
      ],
      "metadata": {
        "colab": {
          "base_uri": "https://localhost:8080/"
        },
        "id": "p7Kl5M_7DL6_",
        "outputId": "f061f465-0ed7-45c2-ed56-d166c4087af1"
      },
      "execution_count": 29,
      "outputs": [
        {
          "output_type": "stream",
          "name": "stdout",
          "text": [
            "Looking in indexes: https://pypi.org/simple, https://us-python.pkg.dev/colab-wheels/public/simple/\n",
            "Requirement already satisfied: imblearn in /usr/local/lib/python3.10/dist-packages (0.0)\n",
            "Requirement already satisfied: imbalanced-learn in /usr/local/lib/python3.10/dist-packages (from imblearn) (0.10.1)\n",
            "Requirement already satisfied: numpy>=1.17.3 in /usr/local/lib/python3.10/dist-packages (from imbalanced-learn->imblearn) (1.22.4)\n",
            "Requirement already satisfied: scipy>=1.3.2 in /usr/local/lib/python3.10/dist-packages (from imbalanced-learn->imblearn) (1.10.1)\n",
            "Requirement already satisfied: scikit-learn>=1.0.2 in /usr/local/lib/python3.10/dist-packages (from imbalanced-learn->imblearn) (1.2.2)\n",
            "Requirement already satisfied: joblib>=1.1.1 in /usr/local/lib/python3.10/dist-packages (from imbalanced-learn->imblearn) (1.2.0)\n",
            "Requirement already satisfied: threadpoolctl>=2.0.0 in /usr/local/lib/python3.10/dist-packages (from imbalanced-learn->imblearn) (3.1.0)\n"
          ]
        }
      ]
    },
    {
      "cell_type": "code",
      "source": [
        "\n",
        "# Instantiate the random oversampler model\n",
        "ros = RandomOverSampler()\n",
        "\n",
        "# Fit the original training data to the random_oversampler model\n",
        "X_R, y_R = ros.fit_resample(X_train, y_train)"
      ],
      "metadata": {
        "id": "c7Fhw-HL-gHM"
      },
      "execution_count": 30,
      "outputs": []
    },
    {
      "cell_type": "code",
      "source": [
        "# Count the distinct values of the resampled labels data\n",
        "y_R.value_counts()"
      ],
      "metadata": {
        "colab": {
          "base_uri": "https://localhost:8080/"
        },
        "id": "faQ7Hp6fILYn",
        "outputId": "36debb06-d49b-4e8e-c6cb-6d2e27c0ddd4"
      },
      "execution_count": 31,
      "outputs": [
        {
          "output_type": "execute_result",
          "data": {
            "text/plain": [
              "0    3523\n",
              "1    3523\n",
              "Name: stroke, dtype: int64"
            ]
          },
          "metadata": {},
          "execution_count": 31
        }
      ]
    },
    {
      "cell_type": "code",
      "source": [
        "X_train_scaled_R = X_scaler.transform(X_R)"
      ],
      "metadata": {
        "id": "rqkcReuAMpof"
      },
      "execution_count": 32,
      "outputs": []
    },
    {
      "cell_type": "markdown",
      "source": [
        "# **Neural Network Model 2**\n",
        "Attempt 2 using RandomOverSampler"
      ],
      "metadata": {
        "id": "WIwlvyz5EkZB"
      }
    },
    {
      "cell_type": "code",
      "source": [
        "# Neural network model with RandomOverSampler\n",
        "# Define the model\n",
        "number_input_features = len(X_train_scaled_R[0])\n",
        "hidden_nodes_layer1 = 9\n",
        "hidden_nodes_layer2 = 9\n",
        "hidden_nodes_layer3 = 9\n",
        "\n",
        "nn = tf.keras.models.Sequential()\n",
        "\n",
        "# First hidden layer\n",
        "nn.add(\n",
        "    tf.keras.layers.Dense(units=hidden_nodes_layer1, input_dim=number_input_features, activation=\"relu\")\n",
        ")\n",
        "\n",
        "# Second hidden layer\n",
        "nn.add(tf.keras.layers.Dense(units=hidden_nodes_layer2, activation=\"relu\"))\n",
        "\n",
        "# Third hidden layer\n",
        "nn.add(tf.keras.layers.Dense(units=hidden_nodes_layer3, activation=\"relu\"))\n",
        "\n",
        "# Output layer\n",
        "nn.add(tf.keras.layers.Dense(units=1, activation=\"sigmoid\"))\n",
        "\n",
        "# Check the structure of the model\n",
        "nn.summary()"
      ],
      "metadata": {
        "colab": {
          "base_uri": "https://localhost:8080/"
        },
        "id": "I1dtH-f5-gEE",
        "outputId": "867013de-8658-4dc6-eef8-7506432ffa59"
      },
      "execution_count": 33,
      "outputs": [
        {
          "output_type": "stream",
          "name": "stdout",
          "text": [
            "Model: \"sequential_1\"\n",
            "_________________________________________________________________\n",
            " Layer (type)                Output Shape              Param #   \n",
            "=================================================================\n",
            " dense_4 (Dense)             (None, 9)                 198       \n",
            "                                                                 \n",
            " dense_5 (Dense)             (None, 9)                 90        \n",
            "                                                                 \n",
            " dense_6 (Dense)             (None, 9)                 90        \n",
            "                                                                 \n",
            " dense_7 (Dense)             (None, 1)                 10        \n",
            "                                                                 \n",
            "=================================================================\n",
            "Total params: 388\n",
            "Trainable params: 388\n",
            "Non-trainable params: 0\n",
            "_________________________________________________________________\n"
          ]
        }
      ]
    },
    {
      "cell_type": "code",
      "source": [
        "# Compile the model\n",
        "nn.compile(loss=\"binary_crossentropy\", optimizer=\"adam\", metrics=[\"accuracy\"])"
      ],
      "metadata": {
        "id": "vzyLrMjREz3R"
      },
      "execution_count": 34,
      "outputs": []
    },
    {
      "cell_type": "code",
      "source": [
        "# Train the model\n",
        "fit_model = nn.fit(X_train_scaled_R,y_R,epochs=50)"
      ],
      "metadata": {
        "colab": {
          "base_uri": "https://localhost:8080/"
        },
        "id": "Gf1Rv9nFJDZS",
        "outputId": "4cd8c642-7da4-49c2-c6bb-079e5aecc046"
      },
      "execution_count": 35,
      "outputs": [
        {
          "output_type": "stream",
          "name": "stdout",
          "text": [
            "Epoch 1/50\n",
            "221/221 [==============================] - 3s 4ms/step - loss: 0.5622 - accuracy: 0.7030\n",
            "Epoch 2/50\n",
            "221/221 [==============================] - 1s 5ms/step - loss: 0.4844 - accuracy: 0.7790\n",
            "Epoch 3/50\n",
            "221/221 [==============================] - 1s 5ms/step - loss: 0.4518 - accuracy: 0.8005\n",
            "Epoch 4/50\n",
            "221/221 [==============================] - 1s 6ms/step - loss: 0.4318 - accuracy: 0.8071\n",
            "Epoch 5/50\n",
            "221/221 [==============================] - 1s 6ms/step - loss: 0.4173 - accuracy: 0.8189\n",
            "Epoch 6/50\n",
            "221/221 [==============================] - 2s 8ms/step - loss: 0.4034 - accuracy: 0.8270\n",
            "Epoch 7/50\n",
            "221/221 [==============================] - 2s 9ms/step - loss: 0.3939 - accuracy: 0.8311\n",
            "Epoch 8/50\n",
            "221/221 [==============================] - 2s 10ms/step - loss: 0.3837 - accuracy: 0.8317\n",
            "Epoch 9/50\n",
            "221/221 [==============================] - 1s 6ms/step - loss: 0.3732 - accuracy: 0.8364\n",
            "Epoch 10/50\n",
            "221/221 [==============================] - 1s 5ms/step - loss: 0.3662 - accuracy: 0.8347\n",
            "Epoch 11/50\n",
            "221/221 [==============================] - 2s 7ms/step - loss: 0.3588 - accuracy: 0.8378\n",
            "Epoch 12/50\n",
            "221/221 [==============================] - 1s 5ms/step - loss: 0.3520 - accuracy: 0.8388\n",
            "Epoch 13/50\n",
            "221/221 [==============================] - 1s 6ms/step - loss: 0.3474 - accuracy: 0.8409\n",
            "Epoch 14/50\n",
            "221/221 [==============================] - 1s 6ms/step - loss: 0.3421 - accuracy: 0.8427\n",
            "Epoch 15/50\n",
            "221/221 [==============================] - 2s 8ms/step - loss: 0.3377 - accuracy: 0.8469\n",
            "Epoch 16/50\n",
            "221/221 [==============================] - 3s 13ms/step - loss: 0.3331 - accuracy: 0.8538\n",
            "Epoch 17/50\n",
            "221/221 [==============================] - 2s 10ms/step - loss: 0.3297 - accuracy: 0.8578\n",
            "Epoch 18/50\n",
            "221/221 [==============================] - 1s 7ms/step - loss: 0.3254 - accuracy: 0.8625\n",
            "Epoch 19/50\n",
            "221/221 [==============================] - 1s 6ms/step - loss: 0.3214 - accuracy: 0.8650\n",
            "Epoch 20/50\n",
            "221/221 [==============================] - 1s 6ms/step - loss: 0.3192 - accuracy: 0.8670\n",
            "Epoch 21/50\n",
            "221/221 [==============================] - 1s 5ms/step - loss: 0.3155 - accuracy: 0.8694\n",
            "Epoch 22/50\n",
            "221/221 [==============================] - 1s 4ms/step - loss: 0.3115 - accuracy: 0.8716\n",
            "Epoch 23/50\n",
            "221/221 [==============================] - 1s 5ms/step - loss: 0.3071 - accuracy: 0.8728\n",
            "Epoch 24/50\n",
            "221/221 [==============================] - 2s 7ms/step - loss: 0.3038 - accuracy: 0.8737\n",
            "Epoch 25/50\n",
            "221/221 [==============================] - 1s 6ms/step - loss: 0.2994 - accuracy: 0.8764\n",
            "Epoch 26/50\n",
            "221/221 [==============================] - 2s 8ms/step - loss: 0.2967 - accuracy: 0.8798\n",
            "Epoch 27/50\n",
            "221/221 [==============================] - 2s 8ms/step - loss: 0.2947 - accuracy: 0.8789\n",
            "Epoch 28/50\n",
            "221/221 [==============================] - 2s 10ms/step - loss: 0.2915 - accuracy: 0.8832\n",
            "Epoch 29/50\n",
            "221/221 [==============================] - 1s 4ms/step - loss: 0.2889 - accuracy: 0.8836\n",
            "Epoch 30/50\n",
            "221/221 [==============================] - 1s 3ms/step - loss: 0.2866 - accuracy: 0.8860\n",
            "Epoch 31/50\n",
            "221/221 [==============================] - 1s 2ms/step - loss: 0.2831 - accuracy: 0.8887\n",
            "Epoch 32/50\n",
            "221/221 [==============================] - 1s 3ms/step - loss: 0.2809 - accuracy: 0.8897\n",
            "Epoch 33/50\n",
            "221/221 [==============================] - 1s 2ms/step - loss: 0.2784 - accuracy: 0.8916\n",
            "Epoch 34/50\n",
            "221/221 [==============================] - 1s 3ms/step - loss: 0.2756 - accuracy: 0.8920\n",
            "Epoch 35/50\n",
            "221/221 [==============================] - 1s 3ms/step - loss: 0.2744 - accuracy: 0.8936\n",
            "Epoch 36/50\n",
            "221/221 [==============================] - 1s 3ms/step - loss: 0.2736 - accuracy: 0.8940\n",
            "Epoch 37/50\n",
            "221/221 [==============================] - 1s 3ms/step - loss: 0.2722 - accuracy: 0.8965\n",
            "Epoch 38/50\n",
            "221/221 [==============================] - 1s 3ms/step - loss: 0.2704 - accuracy: 0.8940\n",
            "Epoch 39/50\n",
            "221/221 [==============================] - 1s 3ms/step - loss: 0.2675 - accuracy: 0.8967\n",
            "Epoch 40/50\n",
            "221/221 [==============================] - 1s 3ms/step - loss: 0.2667 - accuracy: 0.8977\n",
            "Epoch 41/50\n",
            "221/221 [==============================] - 1s 3ms/step - loss: 0.2649 - accuracy: 0.8981\n",
            "Epoch 42/50\n",
            "221/221 [==============================] - 1s 3ms/step - loss: 0.2630 - accuracy: 0.8968\n",
            "Epoch 43/50\n",
            "221/221 [==============================] - 1s 3ms/step - loss: 0.2621 - accuracy: 0.9019\n",
            "Epoch 44/50\n",
            "221/221 [==============================] - 1s 3ms/step - loss: 0.2594 - accuracy: 0.9038\n",
            "Epoch 45/50\n",
            "221/221 [==============================] - 1s 3ms/step - loss: 0.2580 - accuracy: 0.9028\n",
            "Epoch 46/50\n",
            "221/221 [==============================] - 1s 4ms/step - loss: 0.2582 - accuracy: 0.9025\n",
            "Epoch 47/50\n",
            "221/221 [==============================] - 1s 4ms/step - loss: 0.2572 - accuracy: 0.9059\n",
            "Epoch 48/50\n",
            "221/221 [==============================] - 1s 4ms/step - loss: 0.2567 - accuracy: 0.9051\n",
            "Epoch 49/50\n",
            "221/221 [==============================] - 1s 4ms/step - loss: 0.2553 - accuracy: 0.9051\n",
            "Epoch 50/50\n",
            "221/221 [==============================] - 1s 4ms/step - loss: 0.2531 - accuracy: 0.9066\n"
          ]
        }
      ]
    },
    {
      "cell_type": "code",
      "source": [
        "# Evaluate the model using the test data\n",
        "model_loss, model_accuracy = nn.evaluate(X_test_scaled,y_test,verbose=2)\n",
        "print(f\"Loss: {model_loss}, Accuracy: {model_accuracy}\")"
      ],
      "metadata": {
        "colab": {
          "base_uri": "https://localhost:8080/"
        },
        "id": "lHYDQsoeJDWC",
        "outputId": "74b56da0-79dc-493b-f4b8-ab8689c17069"
      },
      "execution_count": 36,
      "outputs": [
        {
          "output_type": "stream",
          "name": "stdout",
          "text": [
            "39/39 - 0s - loss: 0.4671 - accuracy: 0.8143 - 338ms/epoch - 9ms/step\n",
            "Loss: 0.4670688509941101, Accuracy: 0.8143322467803955\n"
          ]
        }
      ]
    },
    {
      "cell_type": "code",
      "source": [
        "# Export our model to HDF5 file\n",
        "# nn.save('Models/stroke_model_NN_2.h5')"
      ],
      "metadata": {
        "id": "rolBkjKwJM21"
      },
      "execution_count": 37,
      "outputs": []
    },
    {
      "cell_type": "markdown",
      "source": [
        "# **Logistic Regression Model 2**\n",
        "Attempt 2 using RandomOverSampler"
      ],
      "metadata": {
        "id": "w0cy_24JE1As"
      }
    },
    {
      "cell_type": "code",
      "source": [
        "# Logistic Regression model with RandomOverSampler\n",
        "# Instantiate the Logistic Regression model\n",
        "ros_logistic_regression_model = LogisticRegression(max_iter=200)\n",
        "\n",
        "# Fit the model using the resampled training data\n",
        "ros_model = logistic_regression_model.fit(X_train_scaled_R, y_R)\n",
        "\n",
        "# Make a prediction using the testing data\n",
        "ros_LR_pred = logistic_regression_model.predict(X_test_scaled)"
      ],
      "metadata": {
        "id": "3WhY4E7a-gAm"
      },
      "execution_count": 38,
      "outputs": []
    },
    {
      "cell_type": "code",
      "source": [
        "# Print the balanced_accuracy score of the model \n",
        "balanced_accuracy_score(y_test, ros_LR_pred)"
      ],
      "metadata": {
        "colab": {
          "base_uri": "https://localhost:8080/"
        },
        "id": "-jhSJb02NXrP",
        "outputId": "fd71445d-b06f-414e-fe86-676925ed5803"
      },
      "execution_count": 39,
      "outputs": [
        {
          "output_type": "execute_result",
          "data": {
            "text/plain": [
              "0.7595831875655954"
            ]
          },
          "metadata": {},
          "execution_count": 39
        }
      ]
    },
    {
      "cell_type": "code",
      "source": [
        "# Generate a confusion matrix for the model\n",
        "ros_matrix = confusion_matrix(y_test, ros_LR_pred)\n",
        "print(ros_matrix)"
      ],
      "metadata": {
        "colab": {
          "base_uri": "https://localhost:8080/"
        },
        "id": "Kp3Ge70dNXmZ",
        "outputId": "a179e4be-2e3d-4087-9d93-9e2fdd2d04fe"
      },
      "execution_count": 40,
      "outputs": [
        {
          "output_type": "stream",
          "name": "stdout",
          "text": [
            "[[888 289]\n",
            " [ 12  39]]\n"
          ]
        }
      ]
    },
    {
      "cell_type": "code",
      "source": [
        "# Print the classification report for the model\n",
        "ros_report = classification_report(y_test, ros_LR_pred)\n",
        "print(ros_report)"
      ],
      "metadata": {
        "colab": {
          "base_uri": "https://localhost:8080/"
        },
        "id": "HYw0WujKNXiL",
        "outputId": "25867487-a3aa-4dde-cec3-e38924e97e25"
      },
      "execution_count": 41,
      "outputs": [
        {
          "output_type": "stream",
          "name": "stdout",
          "text": [
            "              precision    recall  f1-score   support\n",
            "\n",
            "           0       0.99      0.75      0.86      1177\n",
            "           1       0.12      0.76      0.21        51\n",
            "\n",
            "    accuracy                           0.75      1228\n",
            "   macro avg       0.55      0.76      0.53      1228\n",
            "weighted avg       0.95      0.75      0.83      1228\n",
            "\n"
          ]
        }
      ]
    },
    {
      "cell_type": "code",
      "source": [],
      "metadata": {
        "id": "nXZVNJnoFEXI"
      },
      "execution_count": 41,
      "outputs": []
    },
    {
      "cell_type": "markdown",
      "source": [
        "# **Neural Network Model 3**\n",
        "Attempt 3 using Keras Tuner and RandomOverSampler"
      ],
      "metadata": {
        "id": "omZnZiucFIhW"
      }
    },
    {
      "cell_type": "code",
      "source": [
        "!pip install keras-tuner"
      ],
      "metadata": {
        "colab": {
          "base_uri": "https://localhost:8080/"
        },
        "id": "W2mJMhas-f1u",
        "outputId": "0dd12591-6d35-440c-af4e-1da42c17fee6"
      },
      "execution_count": 42,
      "outputs": [
        {
          "output_type": "stream",
          "name": "stdout",
          "text": [
            "Looking in indexes: https://pypi.org/simple, https://us-python.pkg.dev/colab-wheels/public/simple/\n",
            "Requirement already satisfied: keras-tuner in /usr/local/lib/python3.10/dist-packages (1.3.5)\n",
            "Requirement already satisfied: packaging in /usr/local/lib/python3.10/dist-packages (from keras-tuner) (23.1)\n",
            "Requirement already satisfied: requests in /usr/local/lib/python3.10/dist-packages (from keras-tuner) (2.27.1)\n",
            "Requirement already satisfied: kt-legacy in /usr/local/lib/python3.10/dist-packages (from keras-tuner) (1.0.5)\n",
            "Requirement already satisfied: urllib3<1.27,>=1.21.1 in /usr/local/lib/python3.10/dist-packages (from requests->keras-tuner) (1.26.15)\n",
            "Requirement already satisfied: certifi>=2017.4.17 in /usr/local/lib/python3.10/dist-packages (from requests->keras-tuner) (2022.12.7)\n",
            "Requirement already satisfied: charset-normalizer~=2.0.0 in /usr/local/lib/python3.10/dist-packages (from requests->keras-tuner) (2.0.12)\n",
            "Requirement already satisfied: idna<4,>=2.5 in /usr/local/lib/python3.10/dist-packages (from requests->keras-tuner) (3.4)\n"
          ]
        }
      ]
    },
    {
      "cell_type": "code",
      "source": [
        "import keras_tuner as kt"
      ],
      "metadata": {
        "id": "3oUS-7-2fCag"
      },
      "execution_count": 59,
      "outputs": []
    },
    {
      "cell_type": "code",
      "source": [
        "# Set value for input_dim\n",
        "number_input_features = len(X_train_scaled_R[0])\n",
        "\n",
        "# Create method for new Sequential model with hyperparameter option\n",
        "def create_model (hp):\n",
        "  nn_model = tf.keras.models.Sequential()\n",
        "\n",
        "  # Activation function options\n",
        "  activation = hp.Choice('activation', ['relu', 'tanh', 'sigmoid'])\n",
        "\n",
        "  # Number of neurons in first layer\n",
        "  nn_model.add(tf.keras.layers.Dense(units=hp.Int('first_units', min_value=1, max_value=10, step=2),\n",
        "                                     activation=activation, input_dim=number_input_features))\n",
        "  \n",
        "  # Number of hidden layers and neurons per layer\n",
        "  for i in range(hp.Int('num_layers', 1, 3)):\n",
        "    nn_model.add(tf.keras.layers.Dense(units=hp.Int('units_' + str(i), min_value=1, max_value=10, step=2), activation=activation))\n",
        "\n",
        "  nn_model.add(tf.keras.layers.Dense(units=1, activation='sigmoid'))\n",
        "\n",
        "  # Compile the model\n",
        "  nn_model.compile(loss=\"binary_crossentropy\", optimizer='adam', metrics=[\"accuracy\"])\n",
        "\n",
        "  return nn_model\n"
      ],
      "metadata": {
        "id": "3jON7hcdFU7_"
      },
      "execution_count": 60,
      "outputs": []
    },
    {
      "cell_type": "code",
      "source": [
        "# Create tuner with keras_tuner\n",
        "tuner = kt.Hyperband(\n",
        "    create_model,\n",
        "    objective=\"val_accuracy\",\n",
        "    max_epochs=20,\n",
        "    hyperband_iterations=2)"
      ],
      "metadata": {
        "id": "g7KSoETrFai9"
      },
      "execution_count": 61,
      "outputs": []
    },
    {
      "cell_type": "code",
      "source": [
        "# Run tuner search for best hyperparameters\n",
        "tuner.search(X_train_scaled_R,y_R,epochs=20,validation_data=(X_test_scaled,y_test))"
      ],
      "metadata": {
        "id": "Q9eyRK5hFaf8"
      },
      "execution_count": 62,
      "outputs": []
    },
    {
      "cell_type": "code",
      "source": [
        "# Find most accurate model\n",
        "best_hyper = tuner.get_best_hyperparameters(1)[0]\n",
        "best_hyper.values"
      ],
      "metadata": {
        "colab": {
          "base_uri": "https://localhost:8080/"
        },
        "id": "5N3g-jYUFacY",
        "outputId": "1a132452-153f-4abc-bbda-65fa3c14dace"
      },
      "execution_count": 47,
      "outputs": [
        {
          "output_type": "execute_result",
          "data": {
            "text/plain": [
              "{'activation': 'relu',\n",
              " 'first_units': 1,\n",
              " 'num_layers': 5,\n",
              " 'units_0': 9,\n",
              " 'units_1': 1,\n",
              " 'units_2': 1,\n",
              " 'units_3': 13,\n",
              " 'units_4': 5,\n",
              " 'units_5': 17,\n",
              " 'tuner/epochs': 3,\n",
              " 'tuner/initial_epoch': 0,\n",
              " 'tuner/bracket': 2,\n",
              " 'tuner/round': 0}"
            ]
          },
          "metadata": {},
          "execution_count": 47
        }
      ]
    },
    {
      "cell_type": "code",
      "source": [
        "# Evaluate best model against full test data\n",
        "best_model = tuner.get_best_models(1)[0]\n",
        "model_loss, model_accuracy = best_model.evaluate(X_test_scaled,y_test,verbose=2)\n",
        "print(f\"Loss: {model_loss}, Accuracy: {model_accuracy}\")"
      ],
      "metadata": {
        "colab": {
          "base_uri": "https://localhost:8080/"
        },
        "id": "BzgUvkmBFfym",
        "outputId": "b5820a08-e3b3-4cb6-cf21-41768bbe6d5f"
      },
      "execution_count": 48,
      "outputs": [
        {
          "output_type": "stream",
          "name": "stdout",
          "text": [
            "39/39 - 0s - loss: 0.6922 - accuracy: 0.9585 - 327ms/epoch - 8ms/step\n",
            "Loss: 0.6921735405921936, Accuracy: 0.958469033241272\n"
          ]
        }
      ]
    },
    {
      "cell_type": "markdown",
      "source": [
        "# **K Nearest Neighbors 2**\n",
        "Attempt 2 using RandomOverSampler"
      ],
      "metadata": {
        "id": "E7wjtFE4S4G1"
      }
    },
    {
      "cell_type": "code",
      "source": [
        "# Instantiate the model with k = 3 neighbors\n",
        "model = KNeighborsClassifier(n_neighbors=3)"
      ],
      "metadata": {
        "id": "3K6XozquS7JU"
      },
      "execution_count": 49,
      "outputs": []
    },
    {
      "cell_type": "code",
      "source": [
        "# Train the model\n",
        "model.fit(X_train_scaled_R, y_R)"
      ],
      "metadata": {
        "colab": {
          "base_uri": "https://localhost:8080/",
          "height": 75
        },
        "id": "6matLG3kVTEr",
        "outputId": "2ee32ac1-e970-45b1-eda1-49dedd4813d4"
      },
      "execution_count": 50,
      "outputs": [
        {
          "output_type": "execute_result",
          "data": {
            "text/plain": [
              "KNeighborsClassifier(n_neighbors=3)"
            ],
            "text/html": [
              "<style>#sk-container-id-2 {color: black;background-color: white;}#sk-container-id-2 pre{padding: 0;}#sk-container-id-2 div.sk-toggleable {background-color: white;}#sk-container-id-2 label.sk-toggleable__label {cursor: pointer;display: block;width: 100%;margin-bottom: 0;padding: 0.3em;box-sizing: border-box;text-align: center;}#sk-container-id-2 label.sk-toggleable__label-arrow:before {content: \"▸\";float: left;margin-right: 0.25em;color: #696969;}#sk-container-id-2 label.sk-toggleable__label-arrow:hover:before {color: black;}#sk-container-id-2 div.sk-estimator:hover label.sk-toggleable__label-arrow:before {color: black;}#sk-container-id-2 div.sk-toggleable__content {max-height: 0;max-width: 0;overflow: hidden;text-align: left;background-color: #f0f8ff;}#sk-container-id-2 div.sk-toggleable__content pre {margin: 0.2em;color: black;border-radius: 0.25em;background-color: #f0f8ff;}#sk-container-id-2 input.sk-toggleable__control:checked~div.sk-toggleable__content {max-height: 200px;max-width: 100%;overflow: auto;}#sk-container-id-2 input.sk-toggleable__control:checked~label.sk-toggleable__label-arrow:before {content: \"▾\";}#sk-container-id-2 div.sk-estimator input.sk-toggleable__control:checked~label.sk-toggleable__label {background-color: #d4ebff;}#sk-container-id-2 div.sk-label input.sk-toggleable__control:checked~label.sk-toggleable__label {background-color: #d4ebff;}#sk-container-id-2 input.sk-hidden--visually {border: 0;clip: rect(1px 1px 1px 1px);clip: rect(1px, 1px, 1px, 1px);height: 1px;margin: -1px;overflow: hidden;padding: 0;position: absolute;width: 1px;}#sk-container-id-2 div.sk-estimator {font-family: monospace;background-color: #f0f8ff;border: 1px dotted black;border-radius: 0.25em;box-sizing: border-box;margin-bottom: 0.5em;}#sk-container-id-2 div.sk-estimator:hover {background-color: #d4ebff;}#sk-container-id-2 div.sk-parallel-item::after {content: \"\";width: 100%;border-bottom: 1px solid gray;flex-grow: 1;}#sk-container-id-2 div.sk-label:hover label.sk-toggleable__label {background-color: #d4ebff;}#sk-container-id-2 div.sk-serial::before {content: \"\";position: absolute;border-left: 1px solid gray;box-sizing: border-box;top: 0;bottom: 0;left: 50%;z-index: 0;}#sk-container-id-2 div.sk-serial {display: flex;flex-direction: column;align-items: center;background-color: white;padding-right: 0.2em;padding-left: 0.2em;position: relative;}#sk-container-id-2 div.sk-item {position: relative;z-index: 1;}#sk-container-id-2 div.sk-parallel {display: flex;align-items: stretch;justify-content: center;background-color: white;position: relative;}#sk-container-id-2 div.sk-item::before, #sk-container-id-2 div.sk-parallel-item::before {content: \"\";position: absolute;border-left: 1px solid gray;box-sizing: border-box;top: 0;bottom: 0;left: 50%;z-index: -1;}#sk-container-id-2 div.sk-parallel-item {display: flex;flex-direction: column;z-index: 1;position: relative;background-color: white;}#sk-container-id-2 div.sk-parallel-item:first-child::after {align-self: flex-end;width: 50%;}#sk-container-id-2 div.sk-parallel-item:last-child::after {align-self: flex-start;width: 50%;}#sk-container-id-2 div.sk-parallel-item:only-child::after {width: 0;}#sk-container-id-2 div.sk-dashed-wrapped {border: 1px dashed gray;margin: 0 0.4em 0.5em 0.4em;box-sizing: border-box;padding-bottom: 0.4em;background-color: white;}#sk-container-id-2 div.sk-label label {font-family: monospace;font-weight: bold;display: inline-block;line-height: 1.2em;}#sk-container-id-2 div.sk-label-container {text-align: center;}#sk-container-id-2 div.sk-container {/* jupyter's `normalize.less` sets `[hidden] { display: none; }` but bootstrap.min.css set `[hidden] { display: none !important; }` so we also need the `!important` here to be able to override the default hidden behavior on the sphinx rendered scikit-learn.org. See: https://github.com/scikit-learn/scikit-learn/issues/21755 */display: inline-block !important;position: relative;}#sk-container-id-2 div.sk-text-repr-fallback {display: none;}</style><div id=\"sk-container-id-2\" class=\"sk-top-container\"><div class=\"sk-text-repr-fallback\"><pre>KNeighborsClassifier(n_neighbors=3)</pre><b>In a Jupyter environment, please rerun this cell to show the HTML representation or trust the notebook. <br />On GitHub, the HTML representation is unable to render, please try loading this page with nbviewer.org.</b></div><div class=\"sk-container\" hidden><div class=\"sk-item\"><div class=\"sk-estimator sk-toggleable\"><input class=\"sk-toggleable__control sk-hidden--visually\" id=\"sk-estimator-id-2\" type=\"checkbox\" checked><label for=\"sk-estimator-id-2\" class=\"sk-toggleable__label sk-toggleable__label-arrow\">KNeighborsClassifier</label><div class=\"sk-toggleable__content\"><pre>KNeighborsClassifier(n_neighbors=3)</pre></div></div></div></div></div>"
            ]
          },
          "metadata": {},
          "execution_count": 50
        }
      ]
    },
    {
      "cell_type": "code",
      "source": [
        "# Create predictions\n",
        "ros_KN_pred = model.predict(X_test_scaled)"
      ],
      "metadata": {
        "id": "nPK11WErVSlP"
      },
      "execution_count": 51,
      "outputs": []
    },
    {
      "cell_type": "code",
      "source": [
        "# Print confusion matrix\n",
        "confusion_matrix(ros_KN_pred,y_test)"
      ],
      "metadata": {
        "colab": {
          "base_uri": "https://localhost:8080/"
        },
        "id": "G0HFYkojZ-Qy",
        "outputId": "0b9cbf68-64bf-4036-ba54-cdeff04ad953"
      },
      "execution_count": 52,
      "outputs": [
        {
          "output_type": "execute_result",
          "data": {
            "text/plain": [
              "array([[1097,   45],\n",
              "       [  80,    6]])"
            ]
          },
          "metadata": {},
          "execution_count": 52
        }
      ]
    },
    {
      "cell_type": "code",
      "source": [
        "# Print classification report\n",
        "print(classification_report(ros_KN_pred,y_test))"
      ],
      "metadata": {
        "colab": {
          "base_uri": "https://localhost:8080/"
        },
        "id": "vwkvsb1TZ-MI",
        "outputId": "649eec55-dfc4-4e5e-a889-715df8868fc8"
      },
      "execution_count": 53,
      "outputs": [
        {
          "output_type": "stream",
          "name": "stdout",
          "text": [
            "              precision    recall  f1-score   support\n",
            "\n",
            "           0       0.93      0.96      0.95      1142\n",
            "           1       0.12      0.07      0.09        86\n",
            "\n",
            "    accuracy                           0.90      1228\n",
            "   macro avg       0.52      0.52      0.52      1228\n",
            "weighted avg       0.87      0.90      0.89      1228\n",
            "\n"
          ]
        }
      ]
    },
    {
      "cell_type": "markdown",
      "source": [
        "# **Random Forest**\n",
        "Attempt 2 using RandomOverSampler"
      ],
      "metadata": {
        "id": "hbdQwgLeUDUY"
      }
    },
    {
      "cell_type": "code",
      "source": [
        "# Create a random forest classifier\n",
        "rf_model = RandomForestClassifier(n_estimators=500)"
      ],
      "metadata": {
        "id": "1isbyc_XUHJ-"
      },
      "execution_count": 54,
      "outputs": []
    },
    {
      "cell_type": "code",
      "source": [
        "# Fitting the model\n",
        "rf_model = rf_model.fit(X_train_scaled_R, y_R)"
      ],
      "metadata": {
        "id": "rnjv_xl9aI5M"
      },
      "execution_count": 55,
      "outputs": []
    },
    {
      "cell_type": "code",
      "source": [
        "# Making predictions using the testing data\n",
        "ros_rf_pred = rf_model.predict(X_test_scaled)"
      ],
      "metadata": {
        "id": "QIJxPRgPaI0Q"
      },
      "execution_count": 56,
      "outputs": []
    },
    {
      "cell_type": "code",
      "source": [
        "# Print confusion matrix\n",
        "confusion_matrix(ros_rf_pred,y_test)"
      ],
      "metadata": {
        "colab": {
          "base_uri": "https://localhost:8080/"
        },
        "id": "MTYBW6yyacBm",
        "outputId": "672451f6-d59d-4eec-a9ce-2013a040f7c2"
      },
      "execution_count": 57,
      "outputs": [
        {
          "output_type": "execute_result",
          "data": {
            "text/plain": [
              "array([[1166,   49],\n",
              "       [  11,    2]])"
            ]
          },
          "metadata": {},
          "execution_count": 57
        }
      ]
    },
    {
      "cell_type": "code",
      "source": [
        "# Print classification report\n",
        "print(classification_report(ros_rf_pred,y_test))"
      ],
      "metadata": {
        "colab": {
          "base_uri": "https://localhost:8080/"
        },
        "id": "wl0yubRhab9A",
        "outputId": "4c3c0b42-192a-4d38-bda4-f3e4a038defb"
      },
      "execution_count": 58,
      "outputs": [
        {
          "output_type": "stream",
          "name": "stdout",
          "text": [
            "              precision    recall  f1-score   support\n",
            "\n",
            "           0       0.99      0.96      0.97      1215\n",
            "           1       0.04      0.15      0.06        13\n",
            "\n",
            "    accuracy                           0.95      1228\n",
            "   macro avg       0.51      0.56      0.52      1228\n",
            "weighted avg       0.98      0.95      0.97      1228\n",
            "\n"
          ]
        }
      ]
    },
    {
      "cell_type": "code",
      "source": [],
      "metadata": {
        "id": "JxHJMHmOab4O"
      },
      "execution_count": 58,
      "outputs": []
    }
  ]
}